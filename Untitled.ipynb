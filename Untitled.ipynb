{
 "cells": [
  {
   "cell_type": "code",
   "execution_count": 5,
   "metadata": {},
   "outputs": [],
   "source": [
    "import xlrd"
   ]
  },
  {
   "cell_type": "code",
   "execution_count": 7,
   "metadata": {},
   "outputs": [
    {
     "name": "stdout",
     "output_type": "stream",
     "text": [
      "produtos.csv  produtos.xlsx\r\n"
     ]
    }
   ],
   "source": [
    "ls fix"
   ]
  },
  {
   "cell_type": "code",
   "execution_count": 8,
   "metadata": {},
   "outputs": [],
   "source": [
    "filename = 'fix/produtos.xlsx'"
   ]
  },
  {
   "cell_type": "code",
   "execution_count": 16,
   "metadata": {},
   "outputs": [],
   "source": [
    "workbook = xlrd.open_workbook(filename)\n",
    "sheet = workbook.sheet_by_index(0)"
   ]
  },
  {
   "cell_type": "code",
   "execution_count": null,
   "metadata": {},
   "outputs": [],
   "source": [
    "fields = ('produto', 'ncm', 'preco', 'estoque', 'estoque_minimo')"
   ]
  },
  {
   "cell_type": "code",
   "execution_count": 17,
   "metadata": {},
   "outputs": [
    {
     "name": "stdout",
     "output_type": "stream",
     "text": [
      "Abobrinha italiana cx\n",
      "Abobrinha italiana Kg\n",
      "Abobrinha brasileira cx\n",
      "Abobrinha brasaileira Kg\n",
      "Abobora sc\n",
      "Abobora Kg\n",
      "Abobora moranga sc\n",
      "Abobora moranga Kg\n",
      "Alho roxo cx\n",
      "Alho roxo Kg\n",
      "Alho Descascado kg\n",
      "Batata doce cx\n",
      "Batata doce Kg\n",
      "Beterraba cx\n",
      "Beterraba Kg\n",
      "Berinjela cx\n",
      "Berinjela kg\n"
     ]
    }
   ],
   "source": [
    "for row in range(1, sheet.nrows):\n",
    "    print(sheet.row(row)[0].value)"
   ]
  },
  {
   "cell_type": "code",
   "execution_count": 37,
   "metadata": {},
   "outputs": [],
   "source": [
    "aux = []\n",
    "for row in range(1, sheet.nrows):\n",
    "    produto = sheet.row(row)[0].value\n",
    "    ncm = str(sheet.row(row)[1].value)\n",
    "    preco = sheet.row(row)[2].value\n",
    "    estoque = sheet.row(row)[3].value\n",
    "    estoque_minimo = sheet.row(row)[4].value\n",
    "    \n",
    "    produto = dict(\n",
    "        produto=produto,\n",
    "        ncm=ncm,\n",
    "        preco=preco,\n",
    "        estoque=estoque,\n",
    "        estoque_minimo=estoque_minimo,\n",
    "    )\n",
    "  \n"
   ]
  },
  {
   "cell_type": "code",
   "execution_count": 38,
   "metadata": {},
   "outputs": [
    {
     "data": {
      "text/plain": [
       "[]"
      ]
     },
     "execution_count": 38,
     "metadata": {},
     "output_type": "execute_result"
    }
   ],
   "source": [
    "Produto.objects.bulk_create(aux)"
   ]
  },
  {
   "cell_type": "code",
   "execution_count": null,
   "metadata": {},
   "outputs": [],
   "source": []
  }
 ],
 "metadata": {
  "kernelspec": {
   "display_name": "Django Shell-Plus",
   "language": "python",
   "name": "django_extensions"
  },
  "language_info": {
   "codemirror_mode": {
    "name": "ipython",
    "version": 3
   },
   "file_extension": ".py",
   "mimetype": "text/x-python",
   "name": "python",
   "nbconvert_exporter": "python",
   "pygments_lexer": "ipython3",
   "version": "3.8.2"
  }
 },
 "nbformat": 4,
 "nbformat_minor": 4
}
